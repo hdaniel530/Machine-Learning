{
 "cells": [
  {
   "cell_type": "code",
   "execution_count": 11,
   "metadata": {},
   "outputs": [],
   "source": [
    "import numpy as np\n",
    "import pandas as pd\n",
    "import matplotlib.pyplot as plt\n",
    "%matplotlib inline \n",
    "\n",
    "#Logistic Regression\n",
    "from sklearn import linear_model\n",
    "\n",
    "#Neural Network\n",
    "from sklearn.preprocessing import StandardScaler  # It is important in neural networks to scale the date\n",
    "from sklearn.model_selection import train_test_split  # The standard - train/test to prevent overfitting and choose hyperparameters\n",
    "from sklearn.metrics import accuracy_score # \n",
    "import numpy.random as r # We will randomly initialize our weights\n",
    "from keras.models import Sequential\n",
    "from keras.layers import Dense, Conv2D, Flatten, MaxPooling2D\n",
    "import tensorflow as tf\n",
    "from keras import optimizers\n",
    "from keras import losses\n",
    "import keras \n",
    "\n",
    "#SVM\n",
    "from sklearn import svm"
   ]
  },
  {
   "cell_type": "code",
   "execution_count": 12,
   "metadata": {},
   "outputs": [
    {
     "name": "stdout",
     "output_type": "stream",
     "text": [
      "(11000, 901)\n",
      "(11000,) (11000, 900)\n"
     ]
    }
   ],
   "source": [
    "data = pd.read_csv('ASL_data_Numeric_labels_with_empty_backg_30x30_1000samp_number_only.csv')\n",
    "data = data.dropna()\n",
    "print(data.shape)\n",
    "#Convert dataframe data into a numpy array\n",
    "df = np.array(data.values)\n",
    "#Select first column for the labels/y\n",
    "y = df[:,0]\n",
    "#Select remaining columns as x data(pixel array)\n",
    "X = df[:,1:]\n",
    "print(y.shape, x.shape)"
   ]
  },
  {
   "cell_type": "markdown",
   "metadata": {},
   "source": [
    "# Logistic Regression"
   ]
  },
  {
   "cell_type": "code",
   "execution_count": null,
   "metadata": {},
   "outputs": [],
   "source": []
  },
  {
   "cell_type": "markdown",
   "metadata": {},
   "source": [
    "# Support Vector Machine (SVM)"
   ]
  },
  {
   "cell_type": "code",
   "execution_count": 13,
   "metadata": {},
   "outputs": [],
   "source": [
    "acc_train_svm_linear = []\n",
    "acc_test_svm_linear = []\n",
    "c_svm_linear = []"
   ]
  },
  {
   "cell_type": "markdown",
   "metadata": {},
   "source": [
    "# Convolutional Neural Network"
   ]
  },
  {
   "cell_type": "code",
   "execution_count": 14,
   "metadata": {},
   "outputs": [
    {
     "name": "stderr",
     "output_type": "stream",
     "text": [
      "c:\\users\\hannah daniel\\appdata\\local\\programs\\python\\python35\\lib\\site-packages\\sklearn\\utils\\validation.py:595: DataConversionWarning: Data with input dtype int64 was converted to float64 by StandardScaler.\n",
      "  warnings.warn(msg, DataConversionWarning)\n",
      "c:\\users\\hannah daniel\\appdata\\local\\programs\\python\\python35\\lib\\site-packages\\sklearn\\utils\\validation.py:595: DataConversionWarning: Data with input dtype int64 was converted to float64 by StandardScaler.\n",
      "  warnings.warn(msg, DataConversionWarning)\n"
     ]
    }
   ],
   "source": [
    "#Reinitialize data\n",
    "#Scaling the features to help the algorithm converge, we will scale the data to have a mean of 0 and unit variance\n",
    "X_scale = StandardScaler()\n",
    "X = X_scale.fit_transform(x)\n",
    "\n",
    "#X[0,:] # Looking the new features after scaling\n",
    "\n",
    "#Split the data into training and test set.  60% training and %40 test\n",
    "X_train, X_test, y_train, y_test = train_test_split(X, y, test_size=0.4,shuffle=True)\n",
    "x_train = X_train.reshape(X_train.shape[0],30,30,1)\n",
    "x_test = X_test.reshape(X_test.shape[0],30,30,1)\n",
    "#Converts a class vector (integers) to binary class matrix.\n",
    "y_train = keras.utils.to_categorical(y_train, 11)\n",
    "y_test = keras.utils.to_categorical(y_test, 11)"
   ]
  },
  {
   "cell_type": "code",
   "execution_count": 15,
   "metadata": {},
   "outputs": [
    {
     "name": "stdout",
     "output_type": "stream",
     "text": [
      "WARNING:tensorflow:From c:\\users\\hannah daniel\\appdata\\local\\programs\\python\\python35\\lib\\site-packages\\tensorflow\\python\\framework\\op_def_library.py:263: colocate_with (from tensorflow.python.framework.ops) is deprecated and will be removed in a future version.\n",
      "Instructions for updating:\n",
      "Colocations handled automatically by placer.\n",
      "WARNING:tensorflow:From c:\\users\\hannah daniel\\appdata\\local\\programs\\python\\python35\\lib\\site-packages\\tensorflow\\python\\ops\\math_ops.py:3066: to_int32 (from tensorflow.python.ops.math_ops) is deprecated and will be removed in a future version.\n",
      "Instructions for updating:\n",
      "Use tf.cast instead.\n",
      "Train on 6600 samples, validate on 4400 samples\n",
      "Epoch 1/10\n",
      "6600/6600 [==============================] - 9s 1ms/step - loss: 0.0299 - mean_squared_error: 0.0299 - val_loss: 0.0070 - val_mean_squared_error: 0.0070\n",
      "Epoch 2/10\n",
      "6600/6600 [==============================] - 7s 1ms/step - loss: 0.0021 - mean_squared_error: 0.0021 - val_loss: 7.4352e-04 - val_mean_squared_error: 7.4352e-04\n",
      "Epoch 3/10\n",
      "6600/6600 [==============================] - 7s 1ms/step - loss: 5.1901e-04 - mean_squared_error: 5.1901e-04 - val_loss: 3.4978e-04 - val_mean_squared_error: 3.4978e-04\n",
      "Epoch 4/10\n",
      "6600/6600 [==============================] - 7s 1ms/step - loss: 9.2094e-05 - mean_squared_error: 9.2094e-05 - val_loss: 6.8348e-05 - val_mean_squared_error: 6.8348e-05\n",
      "Epoch 5/10\n",
      "6600/6600 [==============================] - 7s 1ms/step - loss: 2.3402e-05 - mean_squared_error: 2.3402e-05 - val_loss: 9.3458e-06 - val_mean_squared_error: 9.3458e-06\n",
      "Epoch 6/10\n",
      "6600/6600 [==============================] - 7s 1ms/step - loss: 3.1065e-06 - mean_squared_error: 3.1065e-06 - val_loss: 4.3959e-06 - val_mean_squared_error: 4.3959e-06\n",
      "Epoch 7/10\n",
      "6600/6600 [==============================] - 7s 1ms/step - loss: 1.9703e-06 - mean_squared_error: 1.9703e-06 - val_loss: 3.5978e-06 - val_mean_squared_error: 3.5978e-06\n",
      "Epoch 8/10\n",
      "6600/6600 [==============================] - 7s 1ms/step - loss: 1.6173e-06 - mean_squared_error: 1.6173e-06 - val_loss: 3.1041e-06 - val_mean_squared_error: 3.1041e-06\n",
      "Epoch 9/10\n",
      "6600/6600 [==============================] - 7s 1ms/step - loss: 1.3926e-06 - mean_squared_error: 1.3926e-06 - val_loss: 2.7374e-06 - val_mean_squared_error: 2.7374e-06\n",
      "Epoch 10/10\n",
      "6600/6600 [==============================] - 7s 998us/step - loss: 1.2019e-06 - mean_squared_error: 1.2019e-06 - val_loss: 2.4423e-06 - val_mean_squared_error: 2.4423e-06\n",
      "{'loss': [0.02992574640973048, 0.0020829535687031846, 0.0005190100560977237, 9.209426922704248e-05, 2.3402131452960683e-05, 3.10649370200708e-06, 1.9702673256633165e-06, 1.6172971275161465e-06, 1.3925960679168357e-06, 1.2019413683943144e-06], 'val_mean_squared_error': [0.006951917518268932, 0.0007435194022995843, 0.00034978233955123205, 6.834803278748454e-05, 9.345773049228063e-06, 4.395860401431987e-06, 3.5978443950377615e-06, 3.104117286056862e-06, 2.7374222604108085e-06, 2.4422730885734465e-06], 'val_loss': [0.006951917518268932, 0.0007435194022995843, 0.00034978233955123205, 6.834803278748454e-05, 9.345773049228063e-06, 4.395860401431987e-06, 3.5978443950377615e-06, 3.104117286056862e-06, 2.7374222604108085e-06, 2.4422730885734465e-06], 'mean_squared_error': [0.02992574640973048, 0.0020829535687031846, 0.0005190100560977237, 9.209426922704248e-05, 2.3402131452960683e-05, 3.10649370200708e-06, 1.9702673256633165e-06, 1.6172971275161465e-06, 1.3925960679168357e-06, 1.2019413683943144e-06]}\n",
      "_________________________________________________________________\n",
      "Layer (type)                 Output Shape              Param #   \n",
      "=================================================================\n",
      "conv2d_1 (Conv2D)            (None, 26, 26, 32)        832       \n",
      "_________________________________________________________________\n",
      "max_pooling2d_1 (MaxPooling2 (None, 13, 13, 32)        0         \n",
      "_________________________________________________________________\n",
      "conv2d_2 (Conv2D)            (None, 9, 9, 64)          51264     \n",
      "_________________________________________________________________\n",
      "max_pooling2d_2 (MaxPooling2 (None, 4, 4, 64)          0         \n",
      "_________________________________________________________________\n",
      "flatten_1 (Flatten)          (None, 1024)              0         \n",
      "_________________________________________________________________\n",
      "dense_1 (Dense)              (None, 1000)              1025000   \n",
      "_________________________________________________________________\n",
      "dense_2 (Dense)              (None, 11)                11011     \n",
      "=================================================================\n",
      "Total params: 1,088,107\n",
      "Trainable params: 1,088,107\n",
      "Non-trainable params: 0\n",
      "_________________________________________________________________\n",
      "Test loss: 2.442273123609663e-06\n",
      "Test accuracy: 2.442273123609663e-06\n"
     ]
    },
    {
     "data": {
      "image/png": "[encoded data removed]",
      "text/plain": [
       "<Figure size 432x288 with 1 Axes>"
      ]
     },
     "metadata": {
      "needs_background": "light"
     },
     "output_type": "display_data"
    }
   ],
   "source": [
    "#Build network and test\n",
    "keras.backend.clear_session()\n",
    "model = Sequential()\n",
    "model.add(Conv2D(32, kernel_size=(5, 5), strides=(1, 1),\n",
    "                 activation='relu',\n",
    "                 input_shape=(30,30,1)))\n",
    "model.add(MaxPooling2D(pool_size=(2, 2), strides=(2, 2)))\n",
    "model.add(Conv2D(64, (5, 5), activation='relu'))\n",
    "model.add(MaxPooling2D(pool_size=(2, 2)))\n",
    "model.add(Flatten())\n",
    "model.add(Dense(1000, activation='relu'))\n",
    "model.add(Dense(11, activation='softmax'))\n",
    "#Optimizer-set learning rate\n",
    "learning_rate = 0.001\n",
    "optimizer = optimizers.Adam(learning_rate)\n",
    "model.compile(loss=\"mean_squared_error\", optimizer=optimizer, metrics=[\"mean_squared_error\"])\n",
    "\n",
    "history = model.fit(x_train, y_train, epochs=10, batch_size=128, validation_data=(x_test,y_test))\n",
    "print(history.history)\n",
    "model.summary()\n",
    "\n",
    "score = model.evaluate(x_test, y_test, verbose=0)\n",
    "print('Test loss:', score[0])\n",
    "print('Test accuracy:', score[1])\n",
    "plt.plot(range(1,11),history.history['mean_squared_error'])\n",
    "# plt.plot(range(1,11),history.history['val_mean_squared_error'])\n",
    "plt.title('Model error')\n",
    "plt.ylabel('Error')\n",
    "plt.xlabel('Epoch')\n",
    "# plt.legend(['Train', 'Test'], loc='upper left')\n",
    "plt.show()"
   ]
  },
  {
   "cell_type": "code",
   "execution_count": null,
   "metadata": {},
   "outputs": [],
   "source": []
  }
 ],
 "metadata": {
  "kernelspec": {
   "display_name": "Python 3",
   "language": "python",
   "name": "python3"
  },
  "language_info": {
   "codemirror_mode": {
    "name": "ipython",
    "version": 3
   },
   "file_extension": ".py",
   "mimetype": "text/x-python",
   "name": "python",
   "nbconvert_exporter": "python",
   "pygments_lexer": "ipython3",
   "version": "3.5.2"
  }
 },
 "nbformat": 4,
 "nbformat_minor": 2
}
